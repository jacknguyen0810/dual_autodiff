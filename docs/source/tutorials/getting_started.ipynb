{
 "cells": [
  {
   "cell_type": "markdown",
   "metadata": {},
   "source": [
    "## Getting Started with dual_autodiff\n",
    "\n",
    "This tutorial will show you show to get started with using dual_numbers for automatic differentiation"
   ]
  },
  {
   "cell_type": "markdown",
   "metadata": {},
   "source": [
    "### Installing dual_autodiff\n",
    "\n",
    "You can install the package using:  ``` pip install -e . ``` from the root directory. \n",
    "\n",
    "If you wish to install the Cythonised version, you can run: \n",
    "\n",
    "```cd dual_autodiff_x``` (from the root directory)\n",
    "\n",
    "```pip install -e .```\n",
    "\n"
   ]
  },
  {
   "cell_type": "markdown",
   "metadata": {},
   "source": [
    "Importing necessary libraries:"
   ]
  },
  {
   "cell_type": "code",
   "execution_count": 1,
   "metadata": {},
   "outputs": [],
   "source": [
    "# Import libraries\n",
    "import numpy as np\n",
    "import matplotlib.pyplot as plt\n",
    "from dual_autodiff.dual import Dual"
   ]
  },
  {
   "cell_type": "markdown",
   "metadata": {},
   "source": [
    "### Basic Operations\n",
    "\n",
    "Creating Dual numbers and performing basic operations"
   ]
  },
  {
   "cell_type": "code",
   "execution_count": 2,
   "metadata": {},
   "outputs": [
    {
     "name": "stdout",
     "output_type": "stream",
     "text": [
      "x = Dual(2.0, 1.0)\n"
     ]
    }
   ],
   "source": [
    "# Define Dual Numbers\n",
    "x = Dual(2.0, 1.0)      # Real part = 2.0, Dual part = 1.0\n",
    "print(f\"x = {x}\")"
   ]
  },
  {
   "cell_type": "markdown",
   "metadata": {},
   "source": [
    "The module has overloaded the basic operators and their reverses: ```+, -, *, /, **``` to perform these operations for Dual Numbers"
   ]
  },
  {
   "cell_type": "code",
   "execution_count": 8,
   "metadata": {},
   "outputs": [
    {
     "name": "stdout",
     "output_type": "stream",
     "text": [
      "\n",
      "x + y = Dual(5.0, 2.0)\n",
      "\n",
      "3 + x = Dual(5.0, 1.0)\n",
      "\n",
      "x - y = Dual(-1.0, 0.0)\n",
      "\n",
      "y - 4 = Dual(-1.0, 1.0)\n",
      "\n",
      "x * y = Dual(6.0, 5.0)\n",
      "\n",
      "4 * x = Dual(8.0, 4.0)\n",
      "\n",
      "x / y = Dual(0.6666666666666666, 0.1111111111111111)\n",
      "\n",
      "y / 2 = Dual(1.5, 0.5)\n",
      "\n",
      "x ** y = Dual(8.0, 17.545177444479563)\n",
      "\n",
      "x ** 2 = Dual(4.0, 4.0)\n"
     ]
    }
   ],
   "source": [
    "# Define Dual numbers \n",
    "\n",
    "x = Dual(2.0, 1.0)\n",
    "y = Dual(3.0, 1.0)\n",
    "\n",
    "# Addition of Dual numbers\n",
    "ans = x + y\n",
    "print(f\"\\nx + y = {ans}\")\n",
    "\n",
    "# Addition of Dual numbers to real numbers\n",
    "ans = 3 + x\n",
    "print(f\"\\n3 + x = {ans}\")\n",
    "\n",
    "# Subtraction\n",
    "ans = x - y\n",
    "print(f\"\\nx - y = {ans}\")\n",
    "\n",
    "ans = y - 4\n",
    "print(f\"\\ny - 4 = {ans}\")\n",
    "\n",
    "# Multiplication\n",
    "ans = x * y\n",
    "print(f\"\\nx * y = {ans}\")\n",
    "\n",
    "ans = 4 * x\n",
    "print(f\"\\n4 * x = {ans}\")\n",
    "\n",
    "# Division\n",
    "ans = x / y\n",
    "print(f\"\\nx / y = {ans}\")\n",
    "\n",
    "ans = y / 2\n",
    "print(f\"\\ny / 2 = {ans}\")\n",
    "\n",
    "# Index\n",
    "ans = x ** y\n",
    "print(f\"\\nx ** y = {ans}\")\n",
    "\n",
    "ans = x ** 2\n",
    "print(f\"\\nx ** 2 = {ans}\")\n"
   ]
  },
  {
   "cell_type": "markdown",
   "metadata": {},
   "source": [
    "Basic trigonometric functions (```sin, cos, tan```), exponential (```exp```), and logarithm (```log```) functions have also been added"
   ]
  },
  {
   "cell_type": "code",
   "execution_count": 11,
   "metadata": {},
   "outputs": [
    {
     "name": "stdout",
     "output_type": "stream",
     "text": [
      "sin(x) = Dual(0.9092974268256817, -0.4161468365471424)\n",
      "exp(x) = Dual(7.38905609893065, 7.38905609893065)\n"
     ]
    }
   ],
   "source": [
    "# sin\n",
    "x = Dual(2.0, 1.0)\n",
    "print(f\"\\nsin(x) = {x.sin()}\")\n",
    "\n",
    "# exp\n",
    "print(f\"\\nexp(x) = {x.exp()}\")\n"
   ]
  },
  {
   "cell_type": "markdown",
   "metadata": {},
   "source": [
    "### Automatic Differentiation Example\n",
    "\n",
    "Computing the derivative of $f(x) = log(sin(x)) + x^2 cos(x)$ at x = 1.5"
   ]
  },
  {
   "cell_type": "code",
   "execution_count": 13,
   "metadata": {},
   "outputs": [
    {
     "name": "stdout",
     "output_type": "stream",
     "text": [
      "The derivative = -1.9612372705533612, when x = 1.5\n"
     ]
    }
   ],
   "source": [
    "# Define function which you want to differentiate\n",
    "def f(x: float) -> float:\n",
    "    return np.log(np.sin(x)) + x**2 * np.cos(x)\n",
    "\n",
    "# Define a Dual number\n",
    "dual = Dual(1.0, 1.0)\n",
    "\n",
    "# Compute derivative\n",
    "d_dx = dual.derivative(func=f, x=1.5)\n",
    "print(f\"The derivative = {d_dx}, when x = 1.5\")"
   ]
  }
 ],
 "metadata": {
  "kernelspec": {
   "display_name": "venv_dual_autodiff",
   "language": "python",
   "name": "python3"
  },
  "language_info": {
   "codemirror_mode": {
    "name": "ipython",
    "version": 3
   },
   "file_extension": ".py",
   "mimetype": "text/x-python",
   "name": "python",
   "nbconvert_exporter": "python",
   "pygments_lexer": "ipython3",
   "version": "3.11.9"
  }
 },
 "nbformat": 4,
 "nbformat_minor": 2
}
